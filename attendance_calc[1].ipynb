{
 "cells": [
  {
   "cell_type": "code",
   "execution_count": 1,
   "metadata": {},
   "outputs": [],
   "source": [
    "days = ['mon','tue','wed','thu','fri','sat','sun']\n",
    "months = {\n",
    "    1:31, 2:29 , 3:31 , 4:30 , 5:31 , 6 :30 , 7:31 , 8:31 , 9:30,10:31 , 11:30,12:31\n",
    "}\n",
    "subjects = {\n",
    "1:'103E', 2:'202L' , 3:'202P' , 4:'205L' , 5:'303L' ,\n",
    " 6 :'303P', 7:'ECE204L',8:'ECE204P',9:'FRE101L',10:'MAT205L',11:'STS202P'\n",
    "}\n",
    "schedule = {\n",
    "    'mon':[4,5,10,1,7], \n",
    "    'tue':[9,7,2,11,1,1,3,3],\n",
    "    'wed':[11,4,5,10],\n",
    "    'thu':[10,9,7,2,1,1,6,6],\n",
    "    'fri':[2,11,4,5,10,8,8],\n",
    "    'sat':[],\n",
    "    'sun':[]\n",
    "}\n",
    "schedule_sub={   #subject-wise \n",
    "    subjects[i] :sum([schedule[j].count(i) for j in schedule]) for i in subjects\n",
    "}\n"
   ]
  },
  {
   "cell_type": "code",
   "execution_count": 2,
   "metadata": {},
   "outputs": [],
   "source": [
    "class ll :\n",
    "    def __init__(self,val=None , node = None):\n",
    "        self.val = val\n",
    "        self.next =node\n",
    "daysll = ll(days[0],ll(days[1],ll(days[2],ll(days[3],ll(days[4],ll(days[5],ll(days[6])))))))\n",
    "ptr = daysll\n",
    "while ptr.next:\n",
    "    ptr=ptr.next\n",
    "else:\n",
    "    ptr.next = daysll\n",
    "ptrdays = daysll\n",
    "day_obj_list={}\n",
    "ptr = daysll\n",
    "for i in days+['sun']:\n",
    "    day_obj_list[ptr.val] = ptr\n",
    "    ptr=ptr.next"
   ]
  },
  {
   "cell_type": "code",
   "execution_count": 3,
   "metadata": {},
   "outputs": [],
   "source": [
    "\n",
    "def next_date_day (dayptr, d , m):\n",
    "    l = months[m]\n",
    "    dayptr = dayptr.next\n",
    "    if d < l :\n",
    "        return [dayptr,d+1,m]\n",
    "    elif d == l :\n",
    "        return [dayptr , 1 , m+1]\n",
    "    else:\n",
    "        return ll('wrong_key'),'wrongkey','wrong key'\n",
    "    "
   ]
  },
  {
   "cell_type": "code",
   "execution_count": 4,
   "metadata": {},
   "outputs": [],
   "source": [
    "from datetime import datetime"
   ]
  },
  {
   "cell_type": "code",
   "execution_count": 5,
   "metadata": {},
   "outputs": [
    {
     "data": {
      "text/plain": [
       "'Thursday'"
      ]
     },
     "execution_count": 5,
     "metadata": {},
     "output_type": "execute_result"
    }
   ],
   "source": [
    "datetime.strptime(\"2024-07-4\", \"%Y-%m-%d\").strftime(\"%A\")"
   ]
  },
  {
   "cell_type": "code",
   "execution_count": 6,
   "metadata": {},
   "outputs": [],
   "source": [
    "#we are making data for all dates in form [day , date , month] # MUTABLE\n",
    "daylist = []\n",
    "start =['mon',15,7]\n",
    "end = [22,8]\n",
    "ptr = day_obj_list[start[0]]\n",
    "curr = [ptr]+start[1:]\n",
    "while True :\n",
    "    app = [curr[0].val,curr[1],curr[2]]\n",
    "    if curr[1:] == end :\n",
    "        daylist.append(app)\n",
    "        break\n",
    "    elif curr[0] == None :\n",
    "        break\n",
    "    daylist.append(app)\n",
    "    curr = next_date_day(ptr,curr[1],curr[2])\n",
    "    ptr=ptr.next"
   ]
  },
  {
   "cell_type": "code",
   "execution_count": 7,
   "metadata": {},
   "outputs": [],
   "source": [
    "# adding instructional days and changing in main data DAYLIST #add holiday with 'holi' keyword\n",
    "x = input('for instructionals')\n",
    "while x in ['y','yes']:\n",
    "    d1,m1 = int(input('enter date : ')),int(input('month'))\n",
    "    da = input('Time Table Followed of day :')\n",
    "    for i in range(len(daylist)):\n",
    "        ob = daylist[i]\n",
    "        if ob[1:] == [d1,m1]:\n",
    "            daylist[i][0] = da\n",
    "    x = input('choice :')\n"
   ]
  },
  {
   "cell_type": "code",
   "execution_count": 8,
   "metadata": {},
   "outputs": [],
   "source": [
    "#adding holiday\n",
    "x =input('for holiday')\n",
    "hday = []\n",
    "while x in ['y','yes']:\n",
    "    date= [int(input('d')),int(input('m'))]\n",
    "    hday.append(date)\n",
    "    x = input('choice :')\n",
    "for k in hday :\n",
    "    for i in range(len(daylist)):\n",
    "        ob = daylist[i]\n",
    "        if ob[1:] == k :\n",
    "            daylist[i][0] = 'holi'\n",
    "\n"
   ]
  },
  {
   "cell_type": "code",
   "execution_count": 9,
   "metadata": {},
   "outputs": [
    {
     "name": "stdout",
     "output_type": "stream",
     "text": [
      "['mon', 15, 7]\n",
      "['tue', 16, 7]\n",
      "['wed', 17, 7]\n",
      "['thu', 18, 7]\n",
      "['fri', 19, 7]\n",
      "['sat', 20, 7]\n",
      "['sun', 21, 7]\n",
      "['mon', 22, 7]\n",
      "['tue', 23, 7]\n",
      "['wed', 24, 7]\n",
      "['thu', 25, 7]\n",
      "['fri', 26, 7]\n",
      "['sat', 27, 7]\n",
      "['sun', 28, 7]\n",
      "['mon', 29, 7]\n",
      "['tue', 30, 7]\n",
      "['wed', 31, 7]\n",
      "['thu', 1, 8]\n",
      "['fri', 2, 8]\n",
      "['sat', 3, 8]\n",
      "['sun', 4, 8]\n",
      "['mon', 5, 8]\n",
      "['tue', 6, 8]\n",
      "['wed', 7, 8]\n",
      "['thu', 8, 8]\n",
      "['fri', 9, 8]\n",
      "['sat', 10, 8]\n",
      "['sun', 11, 8]\n",
      "['mon', 12, 8]\n",
      "['tue', 13, 8]\n",
      "['wed', 14, 8]\n",
      "['thu', 15, 8]\n",
      "['fri', 16, 8]\n",
      "['sat', 17, 8]\n",
      "['sun', 18, 8]\n",
      "['mon', 19, 8]\n",
      "['tue', 20, 8]\n",
      "['wed', 21, 8]\n",
      "['thu', 22, 8]\n"
     ]
    }
   ],
   "source": [
    "for i in daylist:\n",
    "    print(i)"
   ]
  },
  {
   "cell_type": "code",
   "execution_count": 10,
   "metadata": {},
   "outputs": [],
   "source": [
    "#defines absent dats in [d,m] format\n",
    "x = input('choice for absenty y, yes')\n",
    "absdays =[]\n",
    "while x in ['y','yes']:\n",
    "    absdays.append([int(input('d')),int(input('m'))])\n",
    "    x = input('choice for absent days')\n",
    "\n",
    "    "
   ]
  },
  {
   "cell_type": "code",
   "execution_count": 57,
   "metadata": {},
   "outputs": [
    {
     "data": {
      "text/plain": [
       "['tue', 16, 7]"
      ]
     },
     "execution_count": 57,
     "metadata": {},
     "output_type": "execute_result"
    }
   ],
   "source": [
    "daylist.pop(0)\n"
   ]
  },
  {
   "cell_type": "code",
   "execution_count": 11,
   "metadata": {},
   "outputs": [
    {
     "data": {
      "text/plain": [
       "{'103E': 30,\n",
       " '202L': 17,\n",
       " '202P': 12,\n",
       " '205L': 17,\n",
       " '303L': 17,\n",
       " '303P': 12,\n",
       " 'ECE204L': 18,\n",
       " 'ECE204P': 10,\n",
       " 'FRE101L': 12,\n",
       " 'MAT205L': 23,\n",
       " 'STS202P': 17}"
      ]
     },
     "execution_count": 11,
     "metadata": {},
     "output_type": "execute_result"
    }
   ],
   "source": [
    "daycount = {\n",
    "    i:sum([1 if j[0] == i else 0 for j in daylist ]) for i in days\n",
    "}\n",
    "\n",
    "totalsubclass = {\n",
    "    subjects[i] :sum([daycount[j]*schedule[j].count(i) for j in schedule])  for i in subjects\n",
    "}\n",
    "\n",
    "tt = totalsubclass\n",
    "tt\n",
    "    \n"
   ]
  },
  {
   "cell_type": "code",
   "execution_count": 12,
   "metadata": {},
   "outputs": [
    {
     "data": {
      "text/plain": [
       "{'103E': 30,\n",
       " '202L': 17,\n",
       " '202P': 12,\n",
       " '205L': 17,\n",
       " '303L': 17,\n",
       " '303P': 12,\n",
       " 'ECE204L': 18,\n",
       " 'ECE204P': 10,\n",
       " 'FRE101L': 12,\n",
       " 'MAT205L': 23,\n",
       " 'STS202P': 17}"
      ]
     },
     "execution_count": 12,
     "metadata": {},
     "output_type": "execute_result"
    }
   ],
   "source": [
    "daycount = {\n",
    "    i:sum([1 if (j[0] == i and j[1:] not in absdays) else 0 for j in daylist ]) for i in days\n",
    "}\n",
    "\n",
    "totalsubclass = {\n",
    "    subjects[i] :sum([daycount[j]*schedule[j].count(i) for j in schedule])  for i in subjects\n",
    "}\n",
    "\n",
    "abtt = totalsubclass\n",
    "abtt\n",
    "    \n"
   ]
  },
  {
   "cell_type": "code",
   "execution_count": 16,
   "metadata": {},
   "outputs": [],
   "source": [
    "result = dict()\n",
    "for i in tt:\n",
    "    result[i] = round((abtt[i]/tt[i])*100,2)"
   ]
  },
  {
   "cell_type": "code",
   "execution_count": null,
   "metadata": {},
   "outputs": [],
   "source": []
  },
  {
   "cell_type": "code",
   "execution_count": 17,
   "metadata": {},
   "outputs": [
    {
     "name": "stdout",
     "output_type": "stream",
     "text": [
      "103E 1.0\n",
      "202L 1.0\n",
      "202P 1.0\n",
      "205L 1.0\n",
      "303L 1.0\n",
      "303P 1.0\n",
      "ECE204L 1.0\n",
      "ECE204P 1.0\n",
      "FRE101L 1.0\n",
      "MAT205L 1.0\n",
      "STS202P 1.0\n"
     ]
    }
   ],
   "source": [
    "for i in tt:\n",
    "    if (abtt[i]/tt[i]) < 0.75 :\n",
    "        print(i,round((abtt[i]/tt[i]),2), 'alert')\n",
    "    else:print(i, round(((abtt[i])/tt[i]),2))"
   ]
  },
  {
   "cell_type": "code",
   "execution_count": 21,
   "metadata": {},
   "outputs": [
    {
     "name": "stdout",
     "output_type": "stream",
     "text": [
      "(100.0, 30, 30)\n",
      "(100.0, 17, 17)\n",
      "(100.0, 12, 12)\n",
      "(100.0, 17, 17)\n",
      "(100.0, 17, 17)\n",
      "(100.0, 12, 12)\n",
      "(100.0, 18, 18)\n",
      "(100.0, 10, 10)\n",
      "(100.0, 12, 12)\n",
      "(100.0, 23, 23)\n",
      "(100.0, 17, 17)\n"
     ]
    }
   ],
   "source": [
    "for i in zip(result.values() , tt.values() , abtt.values()):\n",
    "    print(i)"
   ]
  },
  {
   "cell_type": "code",
   "execution_count": 23,
   "metadata": {},
   "outputs": [],
   "source": [
    "result = { k : i for k,i in zip(result.keys(),zip(result.values() , tt.values() , abtt.values()))}"
   ]
  },
  {
   "cell_type": "code",
   "execution_count": 24,
   "metadata": {},
   "outputs": [
    {
     "data": {
      "text/plain": [
       "{'103E': (100.0, 30, 30),\n",
       " '202L': (100.0, 17, 17),\n",
       " '202P': (100.0, 12, 12),\n",
       " '205L': (100.0, 17, 17),\n",
       " '303L': (100.0, 17, 17),\n",
       " '303P': (100.0, 12, 12),\n",
       " 'ECE204L': (100.0, 18, 18),\n",
       " 'ECE204P': (100.0, 10, 10),\n",
       " 'FRE101L': (100.0, 12, 12),\n",
       " 'MAT205L': (100.0, 23, 23),\n",
       " 'STS202P': (100.0, 17, 17)}"
      ]
     },
     "execution_count": 24,
     "metadata": {},
     "output_type": "execute_result"
    }
   ],
   "source": [
    "result"
   ]
  },
  {
   "cell_type": "code",
   "execution_count": 187,
   "metadata": {},
   "outputs": [],
   "source": [
    "daylist.append(['wed',7,2])"
   ]
  },
  {
   "cell_type": "code",
   "execution_count": null,
   "metadata": {},
   "outputs": [],
   "source": [
    "BCSE102-L 0.8888888888888888\n",
    "BCSE102-P 0.8888888888888888\n",
    "BECE102-L 0.8666666666666667\n",
    "BECE102-P 0.8333333333333334\n",
    "BENG102-P 0.8\n",
    "BMAT102-L 0.9\n",
    "BPHY101-L 0.8666666666666667\n",
    "BPHY101-P 0.75\n",
    "BSTS101-P 0.8571428571428571\n",
    "\n",
    "\n",
    "\n",
    "\n",
    "BCSE102-L 0.8888888888888888\n",
    "BCSE102-P 0.8888888888888888\n",
    "BECE102-L 0.8571428571428571\n",
    "BECE102-P 0.8\n",
    "BENG102-P 0.8\n",
    "BMAT102-L 0.8947368421052632\n",
    "BPHY101-L 0.8571428571428571\n",
    "BPHY101-P 0.75\n",
    "BSTS101-P 0.8461538461538461\n",
    "\n",
    "\n",
    "\n",
    "\n",
    "\n"
   ]
  }
 ],
 "metadata": {
  "kernelspec": {
   "display_name": "Python 3",
   "language": "python",
   "name": "python3"
  },
  "language_info": {
   "codemirror_mode": {
    "name": "ipython",
    "version": 3
   },
   "file_extension": ".py",
   "mimetype": "text/x-python",
   "name": "python",
   "nbconvert_exporter": "python",
   "pygments_lexer": "ipython3",
   "version": "3.12.4"
  }
 },
 "nbformat": 4,
 "nbformat_minor": 2
}
